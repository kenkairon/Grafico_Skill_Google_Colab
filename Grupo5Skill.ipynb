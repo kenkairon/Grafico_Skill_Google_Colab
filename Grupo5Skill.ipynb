{
  "nbformat": 4,
  "nbformat_minor": 0,
  "metadata": {
    "colab": {
      "provenance": [],
      "authorship_tag": "ABX9TyO/S8j/NzEFpeUvaejyQgON",
      "include_colab_link": true
    },
    "kernelspec": {
      "name": "python3",
      "display_name": "Python 3"
    },
    "language_info": {
      "name": "python"
    }
  },
  "cells": [
    {
      "cell_type": "markdown",
      "metadata": {
        "id": "view-in-github",
        "colab_type": "text"
      },
      "source": [
        "<a href=\"https://colab.research.google.com/github/kenkairon/Grafico_Skill_Google_Colab/blob/main/Grupo5Skill.ipynb\" target=\"_parent\"><img src=\"https://colab.research.google.com/assets/colab-badge.svg\" alt=\"Open In Colab\"/></a>"
      ]
    },
    {
      "cell_type": "code",
      "execution_count": 1,
      "metadata": {
        "id": "ACXcCXQbZIYT"
      },
      "outputs": [],
      "source": [
        "import matplotlib.pyplot as plt"
      ]
    },
    {
      "cell_type": "code",
      "source": [
        "# Función para ingresar los datos de habilidades\n",
        "def ingresar_habilidades(persona):\n",
        "    habilidades = {}\n",
        "    for i in range(3):\n",
        "        skill = input(f\"Ingrese la habilidad {i+1} de {persona}: \")\n",
        "        nivel = int(input(f\"Ingrese el nivel de {skill} (1-10): \"))\n",
        "        habilidades[skill] = nivel\n",
        "    return habilidades"
      ],
      "metadata": {
        "id": "Ba2kdACiZTN9"
      },
      "execution_count": 3,
      "outputs": []
    },
    {
      "cell_type": "markdown",
      "source": [
        "**Ingresa las Habilidades en programacion de 3 personas**<br>\n",
        "**nombre de la persona**<br>\n",
        "**nombre de la habilidad1**<br>\n",
        "**nivel de la habilidad1 y apretas enter hasta llenar todo texto en negrita**"
      ],
      "metadata": {
        "id": "ThDCZlRpapja"
      }
    },
    {
      "cell_type": "code",
      "source": [
        "# Ingresar datos para 3 personas\n",
        "personas = {}\n",
        "for i in range(3):\n",
        "    nombre = input(f\"Ingrese el nombre de la persona {i+1}: \")\n",
        "    personas[nombre] = ingresar_habilidades(nombre)"
      ],
      "metadata": {
        "colab": {
          "base_uri": "https://localhost:8080/"
        },
        "id": "bR3WaSIKZWbf",
        "outputId": "43199550-e5d2-495b-80d0-01f3f256d2b9"
      },
      "execution_count": 7,
      "outputs": [
        {
          "name": "stdout",
          "output_type": "stream",
          "text": [
            "Ingrese el nombre de la persona 1: carlos\n",
            "Ingrese la habilidad 1 de carlos: python\n",
            "Ingrese el nivel de python (1-10): 6\n",
            "Ingrese la habilidad 2 de carlos: css3\n",
            "Ingrese el nivel de css3 (1-10): 7\n",
            "Ingrese la habilidad 3 de carlos: jacascript \n",
            "Ingrese el nivel de jacascript  (1-10): 7\n",
            "Ingrese el nombre de la persona 2: juan\n",
            "Ingrese la habilidad 1 de juan: php \n",
            "Ingrese el nivel de php  (1-10): 7\n",
            "Ingrese la habilidad 2 de juan: html5\n",
            "Ingrese el nivel de html5 (1-10): 10\n",
            "Ingrese la habilidad 3 de juan: javascript\n",
            "Ingrese el nivel de javascript (1-10): 10\n",
            "Ingrese el nombre de la persona 3: marcos\n",
            "Ingrese la habilidad 1 de marcos: ruby ç\n",
            "Ingrese el nivel de ruby ç (1-10): 7\n",
            "Ingrese la habilidad 2 de marcos: javascript\n",
            "Ingrese el nivel de javascript (1-10): 8\n",
            "Ingrese la habilidad 3 de marcos: css3\n",
            "Ingrese el nivel de css3 (1-10): 5\n"
          ]
        }
      ]
    },
    {
      "cell_type": "code",
      "source": [
        "# Preparar datos para el gráfico\n",
        "skills = list(set(skill for habilidades in personas.values() for skill in habilidades))\n",
        "datos = {nombre: [personas[nombre].get(skill, 0) for skill in skills] for nombre in personas}"
      ],
      "metadata": {
        "id": "vsbLFIG8ZbGz"
      },
      "execution_count": 8,
      "outputs": []
    },
    {
      "cell_type": "code",
      "source": [
        "# Crear gráfico de barras\n",
        "fig, ax = plt.subplots()\n",
        "\n",
        "bar_width = 0.2\n",
        "index = range(len(skills))\n",
        "\n",
        "for i, (nombre, niveles) in enumerate(datos.items()):\n",
        "    ax.bar([p + i * bar_width for p in index], niveles, bar_width, label=nombre)\n",
        "# Configurar el gráfico\n",
        "ax.set_xlabel('Habilidades')\n",
        "ax.set_ylabel('Nivel')\n",
        "ax.set_title('Comparación de habilidades')\n",
        "ax.set_xticks([p + bar_width for p in index])\n",
        "ax.set_xticklabels(skills)\n",
        "ax.legend()\n",
        "\n",
        "plt.show()"
      ],
      "metadata": {
        "colab": {
          "base_uri": "https://localhost:8080/",
          "height": 472
        },
        "id": "_8tHkN3cZhR0",
        "outputId": "0198043b-f5ae-4d18-de40-6fd2305d8f7a"
      },
      "execution_count": 9,
      "outputs": [
        {
          "output_type": "display_data",
          "data": {
            "text/plain": [
              "<Figure size 640x480 with 1 Axes>"
            ],
            "image/png": "[encoded data removed]"
          },
          "metadata": {}
        }
      ]
    },
    {
      "cell_type": "code",
      "source": [],
      "metadata": {
        "id": "ab6k4znNZmsk"
      },
      "execution_count": null,
      "outputs": []
    }
  ]
}